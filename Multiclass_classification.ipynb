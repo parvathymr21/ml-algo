{
  "cells": [
    {
      "cell_type": "markdown",
      "metadata": {
        "id": "view-in-github",
        "colab_type": "text"
      },
      "source": [
        "<a href=\"https://colab.research.google.com/github/parvathymr21/ml-algo/blob/main/Multiclass_classification.ipynb\" target=\"_parent\"><img src=\"https://colab.research.google.com/assets/colab-badge.svg\" alt=\"Open In Colab\"/></a>"
      ]
    },
    {
      "cell_type": "code",
      "execution_count": null,
      "id": "91d60cb9",
      "metadata": {
        "id": "91d60cb9"
      },
      "outputs": [],
      "source": [
        "import numpy as np\n",
        "import pandas as pd\n",
        "import matplotlib.pyplot as plt\n",
        "from sklearn.model_selection import train_test_split\n",
        "from sklearn.linear_model import LogisticRegression,LinearRegression\n",
        "from sklearn.metrics import accuracy_score,mean_squared_error\n",
        "from sklearn.preprocessing import StandardScaler\n",
        "from sklearn.ensemble import RandomForestRegressor\n",
        "    "
      ]
    },
    {
      "cell_type": "code",
      "execution_count": null,
      "id": "e7c3f34b",
      "metadata": {
        "id": "e7c3f34b"
      },
      "outputs": [],
      "source": []
    },
    {
      "cell_type": "markdown",
      "id": "786076ea",
      "metadata": {
        "id": "786076ea"
      },
      "source": [
        "# 6. Apply multiclass techniques one vs all and all vs all on IRIS data set using a binary classification algorithm\n",
        "(a) Describe the experimental settings.\n",
        "(b) Compare the performance of two multiclass techniques"
      ]
    },
    {
      "cell_type": "code",
      "execution_count": null,
      "id": "31b06046",
      "metadata": {
        "id": "31b06046"
      },
      "outputs": [],
      "source": []
    },
    {
      "cell_type": "code",
      "execution_count": null,
      "id": "3808303c",
      "metadata": {
        "id": "3808303c",
        "outputId": "bfc5d77d-299e-4a42-af11-33677ba756f9"
      },
      "outputs": [
        {
          "data": {
            "text/plain": [
              "SL                7\n",
              "SW                6\n",
              "PL                6\n",
              "PW                0\n",
              "Classification    0\n",
              "dtype: int64"
            ]
          },
          "execution_count": 18,
          "metadata": {},
          "output_type": "execute_result"
        }
      ],
      "source": [
        "data4 = pd.read_excel('iris.xls')\n",
        "data4.head()\n",
        "data4.isna().sum()\n"
      ]
    },
    {
      "cell_type": "code",
      "execution_count": null,
      "id": "113e7221",
      "metadata": {
        "id": "113e7221",
        "outputId": "948c98db-5182-447f-84d9-60c76af6a643"
      },
      "outputs": [
        {
          "data": {
            "text/plain": [
              "Index(['SL', 'SW', 'PL', 'PW', 'Classification'], dtype='object')"
            ]
          },
          "execution_count": 19,
          "metadata": {},
          "output_type": "execute_result"
        }
      ],
      "source": [
        "# 3 columns are having null values SL,SW & PL\n",
        "# fill null values with mean\n",
        "data4['SL'].mean()\n",
        "data4['SL']= data4['SL'].fillna(data4['SL'].mean())\n",
        "data4['SW']= data4['SW'].fillna(data4['SW'].mean())\n",
        "data4['PL']= data4['PL'].fillna(data4['PL'].mean())\n",
        "\n",
        "data4.isna().sum()\n",
        "data4_c = data4.copy()\n",
        "data4.columns"
      ]
    },
    {
      "cell_type": "code",
      "execution_count": null,
      "id": "6c2a40bb",
      "metadata": {
        "id": "6c2a40bb"
      },
      "outputs": [],
      "source": [
        "data4 =pd.get_dummies(data4)\n",
        "d1_pd = data4.iloc[:,:-2] \n",
        "d2_pd = data4.drop(['Classification_Iris-setosa','Classification_Iris-virginica'],axis=1)\n",
        "d3_pd = data4.drop(['Classification_Iris-setosa','Classification_Iris-versicolor'],axis=1)\n"
      ]
    },
    {
      "cell_type": "markdown",
      "id": "425ebd87",
      "metadata": {
        "id": "425ebd87"
      },
      "source": [
        "# One vs All Multiclass classification"
      ]
    },
    {
      "cell_type": "code",
      "execution_count": null,
      "id": "f592849a",
      "metadata": {
        "id": "f592849a",
        "outputId": "18e3a012-c67b-426e-cf52-e7b175bccc9f"
      },
      "outputs": [
        {
          "name": "stdout",
          "output_type": "stream",
          "text": [
            "Accuracy of the model by one vs all multiclass binary classification: 0.9333333333333333\n"
          ]
        }
      ],
      "source": [
        "def classifier(data):\n",
        "    X = data.iloc[:,:-1]\n",
        "    y = data.iloc[:,-1]\n",
        "    x_train,x_test,y_train,y_test = train_test_split(X,y,test_size=0.3,random_state=42)\n",
        "    LR = LogisticRegression()\n",
        "    model = LR.fit(x_train,y_train)\n",
        "    prob = model.predict_proba(x_test)\n",
        "    return prob,model\n",
        "\n",
        "p1,model1 = classifier(d1_pd)\n",
        "#p1 = pd.DataFrame(p1)\n",
        "p2,model2 = classifier(d2_pd)\n",
        "p3,model3 = classifier(d3_pd)\n",
        "#model1.predict_proba(x_test)\n",
        "\n",
        "\n",
        "X1 = data4_c.iloc[:,:-1]\n",
        "y1 = data4_c.iloc[:,-1]\n",
        "\n",
        "y1=y1.replace(to_replace=('Iris-setosa','Iris-versicolor','Iris-virginica') , value=(1,2,3))\n",
        "sc= StandardScaler()\n",
        "X = sc.fit_transform(X1)\n",
        "X1= pd.DataFrame(X1)\n",
        "x_train,x_test,y_train,y_test = train_test_split(X1,y1,test_size=0.3,random_state=42)\n",
        "\n",
        "\n",
        "cls_1=(np.dot((model1.coef_),x_test.T)+model1.intercept_)\n",
        "cls_2=(np.dot((model2.coef_),x_test.T)+model2.intercept_)\n",
        "cls_3=(np.dot((model3.coef_),x_test.T)+model3.intercept_)\n",
        "\n",
        "cls  =[]\n",
        "for i in range(len(x_test)):\n",
        "    if (cls_1[:,i]>(cls_2[:,i] and cls_3[:,i])):\n",
        "        cls.append(1)\n",
        "    elif (cls_2[:,i]>(cls_1[:,i] and cls_3[:,i])):\n",
        "        cls.append(2)\n",
        "    elif (cls_3[:,i]>(cls_1[:,i] and cls_2[:,i])):\n",
        "        cls.append(3)\n",
        "cls\n",
        " \n",
        "def pred(y_test,cls):\n",
        "    acc =0\n",
        "    a=np.sum(y_test == cls)\n",
        "    return a/len(y_test)\n",
        "\n",
        "acc= pred(y_test,cls) \n",
        "\n",
        "print('Accuracy of the model by one vs all multiclass binary classification:',acc)"
      ]
    },
    {
      "cell_type": "code",
      "execution_count": null,
      "id": "81766113",
      "metadata": {
        "id": "81766113"
      },
      "outputs": [],
      "source": []
    },
    {
      "cell_type": "markdown",
      "id": "5bb1888a",
      "metadata": {
        "id": "5bb1888a"
      },
      "source": [
        "# One vs One "
      ]
    },
    {
      "cell_type": "code",
      "execution_count": null,
      "id": "39d0715d",
      "metadata": {
        "id": "39d0715d",
        "outputId": "1229ea3d-2a7e-4808-fa45-5b6be102af2e"
      },
      "outputs": [
        {
          "name": "stdout",
          "output_type": "stream",
          "text": [
            "Accuracy of the model by one vs one multiclass binary classification: 0.9777777777777777\n"
          ]
        }
      ],
      "source": [
        "d1 = data4_c.copy()\n",
        "d2 = data4_c.copy()\n",
        "d3 = data4_c.copy()\n",
        "\n",
        "\n",
        "ind1 = d1[d1['Classification']=='Iris-virginica'].index\n",
        "ind1\n",
        "#d1_ovo = d1.drop()\n",
        "d1 = d1.drop(ind1,axis=0)\n",
        "ind2 = d2[d2['Classification']=='Iris-versicolor'].index\n",
        "d2 = d2.drop(ind2,axis=0)\n",
        "ind3 = d3[d3['Classification']=='Iris-setosa'].index\n",
        "d3 = d3.drop(ind3,axis=0)\n",
        "\n",
        "\n",
        "\n",
        "d1_p_ovo,model1_ovo = classifier(d1)\n",
        "d2_p_ovo,model2_ovo = classifier(d2)\n",
        "d3_p_ovo,model3_ovo = classifier(d3)\n",
        "#p1 = pd.DataFrame(p1)\n",
        "\n",
        "X1 = data4_c.iloc[:,:-1]\n",
        "y1 = data4_c.iloc[:,-1]\n",
        "\n",
        "#y1=y1.replace(to_replace=('Iris-setosa','Iris-versicolor','Iris-virginica') , value=(1,2,3))\n",
        "sc= StandardScaler()\n",
        "X = sc.fit_transform(X1)\n",
        "X1= pd.DataFrame(X1)\n",
        "x_train,x_test,y_train,y_test = train_test_split(X1,y1,test_size=0.3,random_state=42)\n",
        "\n",
        "\n",
        "\n",
        "d1_ovo_pred = model1_ovo.predict(x_test)\n",
        "d2_ovo_pred = model2_ovo.predict(x_test)\n",
        "d3_ovo_pred = model3_ovo.predict(x_test)\n",
        "\n",
        "d_ovo_df = pd.DataFrame({'d1_ovo_pred':d1_ovo_pred,'d2_ovo_pred':d2_ovo_pred,'d3_ovo_pred':d3_ovo_pred})\n",
        "d_ovo_pred = []\n",
        "\n",
        "for i in range(len(x_test)):\n",
        "    if (d1_ovo_pred[i]==d2_ovo_pred[i]==d3_ovo_pred[i]) or (d1_ovo_pred[i]==d2_ovo_pred[i]):\n",
        "        d_ovo_pred.append(d1_ovo_pred[i])\n",
        "    elif (d2_ovo_pred[i]==d3_ovo_pred[i]):\n",
        "        d_ovo_pred.append(d2_ovo_pred[i])\n",
        "    elif (d1_ovo_pred[i]==d3_ovo_pred[i]):\n",
        "        d_ovo_pred.append(d1_ovo_pred[i])\n",
        "    \n",
        "d_ovo_df['class_pred'] = d_ovo_pred\n",
        "d_ovo_df\n",
        "a = pred(y_test,d_ovo_pred)\n",
        "d_ovo_pred\n",
        "\n",
        "print('Accuracy of the model by one vs one multiclass binary classification:',a)"
      ]
    },
    {
      "cell_type": "code",
      "execution_count": null,
      "id": "076ed873",
      "metadata": {
        "id": "076ed873"
      },
      "outputs": [],
      "source": [
        "\n"
      ]
    },
    {
      "cell_type": "code",
      "execution_count": null,
      "id": "095d53eb",
      "metadata": {
        "id": "095d53eb"
      },
      "outputs": [],
      "source": []
    },
    {
      "cell_type": "code",
      "execution_count": null,
      "id": "e462ea76",
      "metadata": {
        "id": "e462ea76"
      },
      "outputs": [],
      "source": []
    },
    {
      "cell_type": "code",
      "execution_count": null,
      "id": "e5deb07f",
      "metadata": {
        "id": "e5deb07f"
      },
      "outputs": [],
      "source": []
    }
  ],
  "metadata": {
    "kernelspec": {
      "display_name": "Python 3",
      "language": "python",
      "name": "python3"
    },
    "language_info": {
      "codemirror_mode": {
        "name": "ipython",
        "version": 3
      },
      "file_extension": ".py",
      "mimetype": "text/x-python",
      "name": "python",
      "nbconvert_exporter": "python",
      "pygments_lexer": "ipython3",
      "version": "3.8.8"
    },
    "colab": {
      "provenance": [],
      "include_colab_link": true
    }
  },
  "nbformat": 4,
  "nbformat_minor": 5
}