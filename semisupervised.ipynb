{
  "cells": [
    {
      "cell_type": "markdown",
      "metadata": {
        "id": "view-in-github",
        "colab_type": "text"
      },
      "source": [
        "<a href=\"https://colab.research.google.com/github/parvathymr21/ml-algo/blob/main/semisupervised.ipynb\" target=\"_parent\"><img src=\"https://colab.research.google.com/assets/colab-badge.svg\" alt=\"Open In Colab\"/></a>"
      ]
    },
    {
      "cell_type": "code",
      "execution_count": null,
      "id": "91d60cb9",
      "metadata": {
        "id": "91d60cb9"
      },
      "outputs": [],
      "source": [
        "import numpy as np\n",
        "import pandas as pd\n",
        "import matplotlib.pyplot as plt\n",
        "from sklearn.model_selection import train_test_split\n",
        "from sklearn.linear_model import LogisticRegression,LinearRegression\n",
        "from sklearn.metrics import accuracy_score,mean_squared_error\n",
        "from sklearn.preprocessing import StandardScaler\n",
        "from sklearn.ensemble import RandomForestRegressor\n",
        "    "
      ]
    },
    {
      "cell_type": "code",
      "execution_count": null,
      "id": "e7c3f34b",
      "metadata": {
        "id": "e7c3f34b"
      },
      "outputs": [],
      "source": []
    },
    {
      "cell_type": "markdown",
      "id": "b566de8e",
      "metadata": {
        "id": "b566de8e"
      },
      "source": [
        "# Apply semi supervised techniques on Haberman survival data set.\n",
        "(a) Describe the experimental procedure.\n",
        "(b) Discuss the experimental results."
      ]
    },
    {
      "cell_type": "code",
      "execution_count": null,
      "id": "5eb7d4b5",
      "metadata": {
        "id": "5eb7d4b5"
      },
      "outputs": [],
      "source": [
        "\n",
        "data1 = pd.read_csv('haberman.data',header=None)\n",
        "data1.isna().sum()\n",
        "\n",
        "X = data1.iloc[:,:-1]\n",
        "y = data1.iloc[:,-1]"
      ]
    },
    {
      "cell_type": "code",
      "execution_count": null,
      "id": "b974ab46",
      "metadata": {
        "id": "b974ab46",
        "outputId": "a61a9e19-eec4-4c12-b3e4-7ee34cbbb9da"
      },
      "outputs": [
        {
          "name": "stdout",
          "output_type": "stream",
          "text": [
            "Labeled Train Set: (149, 3) (149,)\n",
            "Unlabeled Train Set: (65, 3) (65,)\n",
            "Test Set: (92, 3) (92,)\n",
            "Accuracy of labelled data 0.75\n",
            "Accuracy of unlabelled data 0.7076923076923077\n",
            "Accuracy of total data by model 0.7418300653594772\n"
          ]
        }
      ],
      "source": [
        "# split into train and test\n",
        "X_train, X_test, y_train, y_test = train_test_split(X, y, test_size=0.30, random_state=1)\n",
        "\n",
        "# split train into labeled and unlabeled\n",
        "X_train_lab, X_test_unlab, y_train_lab, y_test_unlab = train_test_split(X_train, y_train, test_size=0.30, random_state=1)\n",
        "\n",
        "# summarize training set size\n",
        "print('Labeled Train Set:', X_train_lab.shape, y_train_lab.shape)\n",
        "print('Unlabeled Train Set:', X_test_unlab.shape, y_test_unlab.shape)\n",
        "# summarize test set size\n",
        "print('Test Set:', X_test.shape, y_test.shape)\n",
        "\n",
        "LR = LogisticRegression()\n",
        "model = LR.fit(X_train_lab,y_train_lab)\n",
        "y_lab_pred = model.predict(X_test)\n",
        "acc_l = accuracy_score(y_lab_pred,y_test)\n",
        "print('Accuracy of labelled data',acc_l)\n",
        "y_unlab_pred = model.predict(X_test_unlab)\n",
        "acc_unl = accuracy_score(y_unlab_pred,y_test_unlab)\n",
        "print('Accuracy of unlabelled data',acc_unl)\n",
        "\n",
        "y_pred =model.predict(X)\n",
        "acc_total = accuracy_score(y_pred,y)\n",
        "print('Accuracy of total data by model',acc_total)\n",
        "\n"
      ]
    }
  ],
  "metadata": {
    "kernelspec": {
      "display_name": "Python 3",
      "language": "python",
      "name": "python3"
    },
    "language_info": {
      "codemirror_mode": {
        "name": "ipython",
        "version": 3
      },
      "file_extension": ".py",
      "mimetype": "text/x-python",
      "name": "python",
      "nbconvert_exporter": "python",
      "pygments_lexer": "ipython3",
      "version": "3.8.8"
    },
    "colab": {
      "provenance": [],
      "include_colab_link": true
    }
  },
  "nbformat": 4,
  "nbformat_minor": 5
}